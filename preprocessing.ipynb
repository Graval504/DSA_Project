{
 "cells": [
  {
   "cell_type": "code",
   "execution_count": 76,
   "metadata": {},
   "outputs": [],
   "source": [
    "import json\n",
    "import re\n",
    "import random\n",
    "\n",
    "data = {}\n",
    "transfer_stations = []"
   ]
  },
  {
   "cell_type": "code",
   "execution_count": 77,
   "metadata": {},
   "outputs": [],
   "source": [
    "with open('subway.txt', 'r') as f:\n",
    "    for line_num, l in enumerate(f):\n",
    "        stations = re.split(r'\\s+-\\s+|\\n', l.strip('\\n'))\n",
    "\n",
    "        for index, station in enumerate(stations):\n",
    "            data.setdefault(station, {})\n",
    "            data[station].setdefault(line_num + 1, [])\n",
    "\n",
    "            if index > 0:\n",
    "                data[station][line_num + 1].append((stations[index - 1], line_num + 1, random.randint(2, 5)))\n",
    "            if index < len(stations) - 1:\n",
    "                data[station][line_num + 1].append((stations[index + 1], line_num + 1, random.randint(2, 5)))"
   ]
  },
  {
   "cell_type": "code",
   "execution_count": 78,
   "metadata": {},
   "outputs": [],
   "source": [
    "for station in data.keys():\n",
    "\n",
    "    if len(data[station]) == 1:\n",
    "        continue\n",
    "\n",
    "    for line in data[station].keys():\n",
    "        for transfer_line in data[station].keys():\n",
    "\n",
    "            if line == transfer_line:\n",
    "                continue\n",
    "\n",
    "            data[station][line].append((station, transfer_line, random.randint(1, 4)))"
   ]
  },
  {
   "cell_type": "code",
   "execution_count": 79,
   "metadata": {},
   "outputs": [],
   "source": [
    "with open('subway(unequal).json', 'w', encoding='utf-8') as f:\n",
    "    json.dump(data, f, ensure_ascii=False, indent=4)"
   ]
  }
 ],
 "metadata": {
  "kernelspec": {
   "display_name": "study",
   "language": "python",
   "name": "python3"
  },
  "language_info": {
   "codemirror_mode": {
    "name": "ipython",
    "version": 3
   },
   "file_extension": ".py",
   "mimetype": "text/x-python",
   "name": "python",
   "nbconvert_exporter": "python",
   "pygments_lexer": "ipython3",
   "version": "3.9.16"
  },
  "orig_nbformat": 4
 },
 "nbformat": 4,
 "nbformat_minor": 2
}
