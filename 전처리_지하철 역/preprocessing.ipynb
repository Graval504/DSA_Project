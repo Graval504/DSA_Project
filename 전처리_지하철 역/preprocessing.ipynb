{
 "cells": [
  {
   "cell_type": "code",
   "execution_count": 5,
   "metadata": {},
   "outputs": [],
   "source": [
    "import json\n",
    "import re\n",
    "import random\n",
    "\n",
    "data = {}\n",
    "transfer_stations = []"
   ]
  },
  {
   "cell_type": "code",
   "execution_count": 6,
   "metadata": {},
   "outputs": [],
   "source": [
    "with open('subway.txt', 'r') as f:\n",
    "    for line_num, l in enumerate(f):\n",
    "        stations = re.split(r'\\s+-\\s+|\\n', l.strip('\\n'))\n",
    "\n",
    "        for index, station in enumerate(stations):\n",
    "            data.setdefault(station, {})\n",
    "            data[station].setdefault(line_num + 1, [])\n",
    "\n",
    "            if index > 0:\n",
    "                data[station][line_num + 1].append((stations[index - 1], str(line_num + 1), random.randint(2, 5)))\n",
    "            if index < len(stations) - 1:\n",
    "                data[station][line_num + 1].append((stations[index + 1], str(line_num + 1), random.randint(2, 5)))"
   ]
  },
  {
   "cell_type": "code",
   "execution_count": 7,
   "metadata": {},
   "outputs": [],
   "source": [
    "for station in data.keys():\n",
    "\n",
    "    if len(data[station]) == 1:\n",
    "        continue\n",
    "\n",
    "    for line in data[station].keys():\n",
    "        for transfer_line in data[station].keys():\n",
    "\n",
    "            if line == transfer_line:\n",
    "                continue\n",
    "\n",
    "            data[station][line].append((station, str(transfer_line), random.randint(1, 4)))"
   ]
  },
  {
   "cell_type": "code",
   "execution_count": 8,
   "metadata": {},
   "outputs": [],
   "source": [
    "with open('subway(unequal).json', 'w', encoding='utf-8') as f:\n",
    "    json.dump(data, f, ensure_ascii=False, indent=4)"
   ]
  },
  {
   "attachments": {},
   "cell_type": "markdown",
   "metadata": {},
   "source": [
    "### 실제 역간거리 반영"
   ]
  },
  {
   "cell_type": "code",
   "execution_count": 1,
   "metadata": {},
   "outputs": [],
   "source": [
    "import pandas as pd\n",
    "distancedf = pd.read_csv(\"./역간거리.csv\",header=None)\n",
    "transferdf = pd.read_csv(\"./환승역모음.csv\")"
   ]
  },
  {
   "cell_type": "code",
   "execution_count": 2,
   "metadata": {},
   "outputs": [
    {
     "data": {
      "text/html": [
       "<div>\n",
       "<style scoped>\n",
       "    .dataframe tbody tr th:only-of-type {\n",
       "        vertical-align: middle;\n",
       "    }\n",
       "\n",
       "    .dataframe tbody tr th {\n",
       "        vertical-align: top;\n",
       "    }\n",
       "\n",
       "    .dataframe thead th {\n",
       "        text-align: right;\n",
       "    }\n",
       "</style>\n",
       "<table border=\"1\" class=\"dataframe\">\n",
       "  <thead>\n",
       "    <tr style=\"text-align: right;\">\n",
       "      <th></th>\n",
       "      <th>호선</th>\n",
       "      <th>환승역명</th>\n",
       "      <th>환승노선</th>\n",
       "      <th>환승소요시간(초)</th>\n",
       "    </tr>\n",
       "  </thead>\n",
       "  <tbody>\n",
       "    <tr>\n",
       "      <th>0</th>\n",
       "      <td>1</td>\n",
       "      <td>시청</td>\n",
       "      <td>2</td>\n",
       "      <td>84</td>\n",
       "    </tr>\n",
       "    <tr>\n",
       "      <th>1</th>\n",
       "      <td>1</td>\n",
       "      <td>신길</td>\n",
       "      <td>5</td>\n",
       "      <td>202</td>\n",
       "    </tr>\n",
       "    <tr>\n",
       "      <th>2</th>\n",
       "      <td>1</td>\n",
       "      <td>신도림</td>\n",
       "      <td>2</td>\n",
       "      <td>68</td>\n",
       "    </tr>\n",
       "    <tr>\n",
       "      <th>3</th>\n",
       "      <td>1</td>\n",
       "      <td>창동</td>\n",
       "      <td>4</td>\n",
       "      <td>70</td>\n",
       "    </tr>\n",
       "    <tr>\n",
       "      <th>4</th>\n",
       "      <td>2</td>\n",
       "      <td>성수</td>\n",
       "      <td>2</td>\n",
       "      <td>19</td>\n",
       "    </tr>\n",
       "  </tbody>\n",
       "</table>\n",
       "</div>"
      ],
      "text/plain": [
       "   호선 환승역명  환승노선  환승소요시간(초)\n",
       "0   1   시청     2         84\n",
       "1   1   신길     5        202\n",
       "2   1  신도림     2         68\n",
       "3   1   창동     4         70\n",
       "4   2   성수     2         19"
      ]
     },
     "execution_count": 2,
     "metadata": {},
     "output_type": "execute_result"
    }
   ],
   "source": [
    "transferdf.head()"
   ]
  },
  {
   "cell_type": "code",
   "execution_count": 3,
   "metadata": {},
   "outputs": [],
   "source": [
    "import json\n",
    "import re\n",
    "import random\n",
    "\n",
    "data = {}\n",
    "transfer_stations = []"
   ]
  },
  {
   "cell_type": "code",
   "execution_count": 4,
   "metadata": {},
   "outputs": [],
   "source": [
    "def get_traveltime(station1:str,station2:str) -> float:\n",
    "    df = distancedf[((distancedf[1]==station1) & (distancedf[2]==station2)) | ((distancedf[1]==station2) & (distancedf[2]==station1))]\n",
    "    return df[3].values[0]/60\n",
    "\n",
    "def get_transfertime(station:str,line:str,transfer_line:str) -> float:\n",
    "    if transfer_line[-1] == line[-1]:\n",
    "        return 2.0\n",
    "    df = transferdf[transferdf[\"환승역명\"]==station]\n",
    "    df = df[(df[\"호선\"]==int(line[-1])) & (df[\"환승노선\"]==int(transfer_line[-1])) | (df[\"환승노선\"]==int(line[-1])) & (df[\"호선\"]==int(transfer_line[-1]))]\n",
    "    return df[\"환승소요시간(초)\"].values[0]/60 + 2.0"
   ]
  },
  {
   "cell_type": "code",
   "execution_count": 5,
   "metadata": {},
   "outputs": [],
   "source": [
    "with open('real_subway.txt', 'r') as f:\n",
    "    for _, l in enumerate(f):\n",
    "        line, l = l.split(\",\")\n",
    "        stations = re.split(r'\\s+-\\s+|\\n', l.strip('\\n'))\n",
    "\n",
    "        for index, station in enumerate(stations):\n",
    "            data.setdefault(station, {})\n",
    "            data[station].setdefault(line, [])\n",
    "            try:\n",
    "                if index > 0:\n",
    "                    data[station][line].append((stations[index - 1], line, get_traveltime(station,stations[index-1])))\n",
    "                if index < len(stations) - 1:\n",
    "                    data[station][line].append((stations[index + 1], line, get_traveltime(station,stations[index+1])))\n",
    "            except:\n",
    "                print(index)\n",
    "                print(station)\n",
    "                print(stations[index+1])\n",
    "                raise"
   ]
  },
  {
   "cell_type": "code",
   "execution_count": 6,
   "metadata": {},
   "outputs": [],
   "source": [
    "for station in data.keys():\n",
    "\n",
    "    if len(data[station]) == 1:\n",
    "        continue\n",
    "\n",
    "    for line in data[station].keys():\n",
    "        for transfer_line in data[station].keys():\n",
    "\n",
    "            if line == transfer_line:\n",
    "                continue\n",
    "            data[station][line].append((station, str(transfer_line), get_transfertime(station,line,transfer_line)))"
   ]
  },
  {
   "cell_type": "code",
   "execution_count": 7,
   "metadata": {},
   "outputs": [
    {
     "data": {
      "text/plain": [
       "2.0"
      ]
     },
     "execution_count": 7,
     "metadata": {},
     "output_type": "execute_result"
    }
   ],
   "source": [
    "get_transfertime(\"광운대\",\"경인선 1\",\"경부선 1\")"
   ]
  },
  {
   "cell_type": "code",
   "execution_count": 7,
   "metadata": {},
   "outputs": [],
   "source": [
    "with open('subway(real).json', 'w', encoding='utf-8') as f:\n",
    "    json.dump(data, f, ensure_ascii=False, indent=4)"
   ]
  },
  {
   "cell_type": "code",
   "execution_count": null,
   "metadata": {},
   "outputs": [],
   "source": []
  }
 ],
 "metadata": {
  "kernelspec": {
   "display_name": "Python 3 (ipykernel)",
   "language": "python",
   "name": "python3"
  },
  "language_info": {
   "codemirror_mode": {
    "name": "ipython",
    "version": 3
   },
   "file_extension": ".py",
   "mimetype": "text/x-python",
   "name": "python",
   "nbconvert_exporter": "python",
   "pygments_lexer": "ipython3",
   "version": "3.10.10"
  }
 },
 "nbformat": 4,
 "nbformat_minor": 2
}
